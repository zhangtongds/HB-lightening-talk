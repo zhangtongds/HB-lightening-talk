{
 "cells": [
  {
   "cell_type": "markdown",
   "metadata": {},
   "source": [
    "<h1>**Pandas**</h1>"
   ]
  },
  {
   "cell_type": "markdown",
   "metadata": {},
   "source": [
    "<h3>**What is Pandas**</h3>\n",
    "A Python library providing data structures and data analysis tools. In particular, it offers data structures and operations for manipulating numerical tables and time series. The name comes from \"panel data\", an econometrics term for data sets that include observations over multiple time periods for the same individuals."
   ]
  },
  {
   "cell_type": "markdown",
   "metadata": {},
   "source": [
    "<h3>**Benefits**</h3>"
   ]
  },
  {
   "cell_type": "markdown",
   "metadata": {},
   "source": [
    "* Efficient storage and processing of data.\n",
    "* Includes many built in functions for data transformation, aggregations, and plotting.\n",
    "* Great for exploratory work.\n"
   ]
  },
  {
   "cell_type": "markdown",
   "metadata": {},
   "source": [
    "<h3>**Pandas is built on Numpy**</h3>"
   ]
  },
  {
   "cell_type": "markdown",
   "metadata": {},
   "source": [
    "Numpy is one of the fundamental packages for scientific computing in Python."
   ]
  },
  {
   "cell_type": "markdown",
   "metadata": {},
   "source": [
    "* They are like lists in Python however they allow faster computation\n",
    "    * They are stored as one contiguous block of memory, rather than being spread out across multiple locations like a list.\n",
    "    * Each item in a numpy array is of the same data type (i.e. all integers, all floats, etc.), rather than a conglomerate of any number of data types (as a list is). We call this idea homogeneity, as opposed to the possible heterogeneity of Python lists."
   ]
  },
  {
   "cell_type": "code",
   "execution_count": 8,
   "metadata": {},
   "outputs": [],
   "source": [
    "import pandas as pd\n",
    "import numpy as np\n",
    "from numpy.random import randn"
   ]
  },
  {
   "cell_type": "code",
   "execution_count": 11,
   "metadata": {},
   "outputs": [
    {
     "data": {
      "text/plain": [
       "array([[-1.66499615, -0.62802534,  0.67027933,  0.59446066],\n",
       "       [ 0.84255299,  1.85357958, -1.1917617 , -0.6183688 ],\n",
       "       [-0.56007774,  0.05985073, -0.28644748,  0.0301136 ]])"
      ]
     },
     "execution_count": 11,
     "metadata": {},
     "output_type": "execute_result"
    }
   ],
   "source": [
    "np.random.randn(3,4)  \n",
    "#return samples from the standard normal distribution"
   ]
  },
  {
   "cell_type": "markdown",
   "metadata": {},
   "source": [
    "<h3>**Pandas Series**</h3>"
   ]
  },
  {
   "cell_type": "code",
   "execution_count": 17,
   "metadata": {},
   "outputs": [
    {
     "data": {
      "text/plain": [
       "2015-01-31   -1.813841\n",
       "2015-02-28   -0.519178\n",
       "2015-03-31   -1.069356\n",
       "2015-04-30    1.224095\n",
       "2015-05-31    0.745135\n",
       "2015-06-30   -0.195817\n",
       "2015-07-31    0.415823\n",
       "2015-08-31   -1.567158\n",
       "2015-09-30    0.080546\n",
       "2015-10-31   -0.641566\n",
       "Freq: M, dtype: float64"
      ]
     },
     "execution_count": 17,
     "metadata": {},
     "output_type": "execute_result"
    }
   ],
   "source": [
    "dt_index = pd.date_range('2015-1-1', \n",
    "                        '2015-11-1', \n",
    "                        freq='m')\n",
    "dt_series = pd.Series(randn(10), \n",
    "                      index = dt_index)\n",
    "dt_series"
   ]
  },
  {
   "cell_type": "code",
   "execution_count": 18,
   "metadata": {},
   "outputs": [
    {
     "data": {
      "text/plain": [
       "-0.3341317602667212"
      ]
     },
     "execution_count": 18,
     "metadata": {},
     "output_type": "execute_result"
    }
   ],
   "source": [
    "dt_series.mean()"
   ]
  },
  {
   "cell_type": "markdown",
   "metadata": {},
   "source": [
    "<h3>**Pandas DataFrames**</h3>\n",
    "A set of Pandas Series that share the same index"
   ]
  },
  {
   "cell_type": "code",
   "execution_count": 19,
   "metadata": {},
   "outputs": [
    {
     "data": {
      "text/html": [
       "<div>\n",
       "<style scoped>\n",
       "    .dataframe tbody tr th:only-of-type {\n",
       "        vertical-align: middle;\n",
       "    }\n",
       "\n",
       "    .dataframe tbody tr th {\n",
       "        vertical-align: top;\n",
       "    }\n",
       "\n",
       "    .dataframe thead th {\n",
       "        text-align: right;\n",
       "    }\n",
       "</style>\n",
       "<table border=\"1\" class=\"dataframe\">\n",
       "  <thead>\n",
       "    <tr style=\"text-align: right;\">\n",
       "      <th></th>\n",
       "      <th>a</th>\n",
       "      <th>b</th>\n",
       "      <th>c</th>\n",
       "      <th>d</th>\n",
       "      <th>e</th>\n",
       "    </tr>\n",
       "  </thead>\n",
       "  <tbody>\n",
       "    <tr>\n",
       "      <th>2015-01-31</th>\n",
       "      <td>0.094848</td>\n",
       "      <td>1.015013</td>\n",
       "      <td>1.021551</td>\n",
       "      <td>0.245632</td>\n",
       "      <td>0.938821</td>\n",
       "    </tr>\n",
       "    <tr>\n",
       "      <th>2015-02-28</th>\n",
       "      <td>2.591438</td>\n",
       "      <td>-0.185937</td>\n",
       "      <td>-1.327210</td>\n",
       "      <td>1.273205</td>\n",
       "      <td>1.150543</td>\n",
       "    </tr>\n",
       "    <tr>\n",
       "      <th>2015-03-31</th>\n",
       "      <td>-0.704332</td>\n",
       "      <td>0.921512</td>\n",
       "      <td>-0.528921</td>\n",
       "      <td>-0.395930</td>\n",
       "      <td>0.311761</td>\n",
       "    </tr>\n",
       "    <tr>\n",
       "      <th>2015-04-30</th>\n",
       "      <td>1.422352</td>\n",
       "      <td>-0.398548</td>\n",
       "      <td>-0.499881</td>\n",
       "      <td>-0.426022</td>\n",
       "      <td>-0.496697</td>\n",
       "    </tr>\n",
       "    <tr>\n",
       "      <th>2015-05-31</th>\n",
       "      <td>0.544095</td>\n",
       "      <td>-1.160600</td>\n",
       "      <td>0.731082</td>\n",
       "      <td>0.251877</td>\n",
       "      <td>-0.380728</td>\n",
       "    </tr>\n",
       "    <tr>\n",
       "      <th>2015-06-30</th>\n",
       "      <td>-0.059261</td>\n",
       "      <td>0.956640</td>\n",
       "      <td>-1.776007</td>\n",
       "      <td>-0.889266</td>\n",
       "      <td>0.424770</td>\n",
       "    </tr>\n",
       "    <tr>\n",
       "      <th>2015-07-31</th>\n",
       "      <td>-1.498531</td>\n",
       "      <td>1.443224</td>\n",
       "      <td>1.077946</td>\n",
       "      <td>0.503206</td>\n",
       "      <td>1.734434</td>\n",
       "    </tr>\n",
       "    <tr>\n",
       "      <th>2015-08-31</th>\n",
       "      <td>-0.086334</td>\n",
       "      <td>-0.613005</td>\n",
       "      <td>-0.233307</td>\n",
       "      <td>0.133118</td>\n",
       "      <td>-0.701191</td>\n",
       "    </tr>\n",
       "    <tr>\n",
       "      <th>2015-09-30</th>\n",
       "      <td>0.688128</td>\n",
       "      <td>-1.129493</td>\n",
       "      <td>-1.323366</td>\n",
       "      <td>-0.427901</td>\n",
       "      <td>0.362137</td>\n",
       "    </tr>\n",
       "    <tr>\n",
       "      <th>2015-10-31</th>\n",
       "      <td>0.318171</td>\n",
       "      <td>1.334676</td>\n",
       "      <td>1.118304</td>\n",
       "      <td>-1.861925</td>\n",
       "      <td>1.272098</td>\n",
       "    </tr>\n",
       "  </tbody>\n",
       "</table>\n",
       "</div>"
      ],
      "text/plain": [
       "                   a         b         c         d         e\n",
       "2015-01-31  0.094848  1.015013  1.021551  0.245632  0.938821\n",
       "2015-02-28  2.591438 -0.185937 -1.327210  1.273205  1.150543\n",
       "2015-03-31 -0.704332  0.921512 -0.528921 -0.395930  0.311761\n",
       "2015-04-30  1.422352 -0.398548 -0.499881 -0.426022 -0.496697\n",
       "2015-05-31  0.544095 -1.160600  0.731082  0.251877 -0.380728\n",
       "2015-06-30 -0.059261  0.956640 -1.776007 -0.889266  0.424770\n",
       "2015-07-31 -1.498531  1.443224  1.077946  0.503206  1.734434\n",
       "2015-08-31 -0.086334 -0.613005 -0.233307  0.133118 -0.701191\n",
       "2015-09-30  0.688128 -1.129493 -1.323366 -0.427901  0.362137\n",
       "2015-10-31  0.318171  1.334676  1.118304 -1.861925  1.272098"
      ]
     },
     "execution_count": 19,
     "metadata": {},
     "output_type": "execute_result"
    }
   ],
   "source": [
    "df = pd.DataFrame(randn(10, 5), index=dt_index, columns=[x for x in 'abcde'])\n",
    "df"
   ]
  },
  {
   "cell_type": "markdown",
   "metadata": {},
   "source": [
    "<h4>Reference</h4>"
   ]
  },
  {
   "cell_type": "markdown",
   "metadata": {},
   "source": [
    "* https://en.wikipedia.org/wiki/Pandas_(software)\n",
    "* http://pandas.pydata.org/pandas-docs/stable/index.html\n",
    "* http://pandas.pydata.org/pandas-docs/stable/comparison_with_sql.html"
   ]
  },
  {
   "cell_type": "markdown",
   "metadata": {},
   "source": [
    "* Bullet 1\n",
    "* Bullet 2\n",
    "  * Bullet 2a\n",
    "  * Bullet 2b\n",
    "* Bullet 3"
   ]
  },
  {
   "cell_type": "code",
   "execution_count": null,
   "metadata": {},
   "outputs": [],
   "source": []
  }
 ],
 "metadata": {
  "kernelspec": {
   "display_name": "Python 3",
   "language": "python",
   "name": "python3"
  },
  "language_info": {
   "codemirror_mode": {
    "name": "ipython",
    "version": 3
   },
   "file_extension": ".py",
   "mimetype": "text/x-python",
   "name": "python",
   "nbconvert_exporter": "python",
   "pygments_lexer": "ipython3",
   "version": "3.6.1"
  }
 },
 "nbformat": 4,
 "nbformat_minor": 2
}
